{
  "cells": [
    {
      "cell_type": "code",
      "execution_count": null,
      "metadata": {
        "id": "kZFRAW7zic_t",
        "colab": {
          "base_uri": "https://localhost:8080/"
        },
        "outputId": "12e7694d-7e2b-4500-a19d-efea330701db"
      },
      "outputs": [
        {
          "output_type": "stream",
          "name": "stderr",
          "text": [
            "/usr/local/lib/python3.7/dist-packages/statsmodels/tools/_testing.py:19: FutureWarning: pandas.util.testing is deprecated. Use the functions in the public API at pandas.testing instead.\n",
            "  import pandas.util.testing as tm\n"
          ]
        }
      ],
      "source": [
        "from google.colab import files\n",
        "import io\n",
        "import math\n",
        "import pandas as pd\n",
        "import numpy as np\n",
        "import matplotlib.pyplot as plt\n",
        "import statsmodels.api as sm\n",
        "import statsmodels.formula.api as smf\n",
        "import scipy.stats as stats\n",
        "from sklearn.mixture import GaussianMixture\n",
        "from pylab import concatenate, normal\n",
        "from scipy.stats import ks_2samp\n",
        "from datetime import date"
      ]
    },
    {
      "cell_type": "code",
      "execution_count": null,
      "metadata": {
        "colab": {
          "base_uri": "https://localhost:8080/",
          "height": 74,
          "resources": {
            "http://localhost:8080/nbextensions/google.colab/files.js": {
              "data": "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",
              "headers": [
                [
                  "content-type",
                  "application/javascript"
                ]
              ],
              "ok": true,
              "status": 200,
              "status_text": ""
            }
          }
        },
        "id": "HLeKMPafn7bn",
        "outputId": "1ced4299-5470-48cd-d76c-620bb1743e56"
      },
      "outputs": [
        {
          "output_type": "display_data",
          "data": {
            "text/plain": [
              "<IPython.core.display.HTML object>"
            ],
            "text/html": [
              "\n",
              "     <input type=\"file\" id=\"files-10eabb3e-13f1-466e-8c4b-8c88dd40e727\" name=\"files[]\" multiple disabled\n",
              "        style=\"border:none\" />\n",
              "     <output id=\"result-10eabb3e-13f1-466e-8c4b-8c88dd40e727\">\n",
              "      Upload widget is only available when the cell has been executed in the\n",
              "      current browser session. Please rerun this cell to enable.\n",
              "      </output>\n",
              "      <script src=\"/nbextensions/google.colab/files.js\"></script> "
            ]
          },
          "metadata": {}
        },
        {
          "output_type": "stream",
          "name": "stdout",
          "text": [
            "Saving owid-covid-data.csv to owid-covid-data.csv\n"
          ]
        }
      ],
      "source": [
        "uploaded = files.upload()\n",
        "df = pd.read_csv(io.BytesIO(uploaded['owid-covid-data.csv']))"
      ]
    },
    {
      "cell_type": "code",
      "execution_count": null,
      "metadata": {
        "id": "97-33Odbi4fM"
      },
      "outputs": [],
      "source": [
        "df=df.fillna(0)\n",
        "df_ind = df.loc[df[\"location\"] == \"India\"]\n",
        "df_sa = df.loc[df[\"location\"] == \"South Africa\"]\n",
        "df_zim = df.loc[df[\"location\"] == \"Zimbabwe\"]\n",
        "df_afg = df.loc[df[\"location\"] == \"Afghanistan\"]\n",
        "df_ind=df_ind.iloc[:,[3,5]]\n",
        "df_sa=df_sa.iloc[:,[3,5]]\n",
        "df_zim=df_zim.iloc[:,[3,5]]\n",
        "df_afg=df_afg.iloc[:,[3,5]]"
      ]
    },
    {
      "cell_type": "code",
      "source": [
        "plt.plot(df_zim['date'], df_zim['new_cases'])\n",
        "\n",
        "plt.axvline(x=137.85,color='r')\n",
        "plt.axvline(x=299.40,color='r')\n",
        "plt.axvline(x=483.53,color='r')\n",
        "plt.axvline(x=640.53,color='r')\n",
        "plt.show()\n"
      ],
      "metadata": {
        "colab": {
          "base_uri": "https://localhost:8080/",
          "height": 265
        },
        "id": "piIBI_iu5F-E",
        "outputId": "3afc3b2e-f3f6-4816-fea6-5a08da380a77"
      },
      "execution_count": null,
      "outputs": [
        {
          "output_type": "display_data",
          "data": {
            "text/plain": [
              "<Figure size 432x288 with 1 Axes>"
            ],
            "image/png": "[encoded data removed]"
          },
          "metadata": {
            "needs_background": "light"
          }
        }
      ]
    },
    {
      "cell_type": "code",
      "source": [
        "plt.plot(df_sa['date'], df_sa['new_cases'])\n",
        "\n",
        "plt.axvline(x=165.43,color='r')\n",
        "plt.axvline(x=331.18,color='r')\n",
        "plt.axvline(x=525.38,color='r')\n",
        "plt.axvline(x=680.26,color='r')\n",
        "plt.show()\n",
        "\n",
        "\"\"\"[[165.43535011]\n",
        " [331.06056181]\n",
        " [501.73175421]\n",
        " [530.60814605]\n",
        " [553.9883369 ]\n",
        " [700.50505798]]\n",
        "[[166.0013952 ]\n",
        " [331.18630151]\n",
        " [525.3876839 ]\n",
        " [680.26365708]]\n",
        "\n",
        " \"\"\""
      ],
      "metadata": {
        "colab": {
          "base_uri": "https://localhost:8080/",
          "height": 284
        },
        "id": "gsjx0uSy5LsL",
        "outputId": "3657e9fa-e09b-42c9-c996-63bd32552790"
      },
      "execution_count": null,
      "outputs": [
        {
          "output_type": "display_data",
          "data": {
            "text/plain": [
              "<Figure size 432x288 with 1 Axes>"
            ],
            "image/png": "[encoded data removed]"
          },
          "metadata": {
            "needs_background": "light"
          }
        },
        {
          "output_type": "execute_result",
          "data": {
            "text/plain": [
              "'[[165.43535011]\\n [331.06056181]\\n [501.73175421]\\n [530.60814605]\\n [553.9883369 ]\\n [700.50505798]]\\n[[166.0013952 ]\\n [331.18630151]\\n [525.3876839 ]\\n [680.26365708]]\\n \\n '"
            ],
            "application/vnd.google.colaboratory.intrinsic+json": {
              "type": "string"
            }
          },
          "metadata": {},
          "execution_count": 32
        }
      ]
    },
    {
      "cell_type": "code",
      "source": [
        "plt.plot(df_afg['date'], df_afg['new_cases'])\n",
        "\n",
        "plt.axvline(x=104.06,color='r')\n",
        "plt.axvline(x=282.91,color='r')\n",
        "plt.axvline(x=486.10,color='r')\n",
        "plt.axvline(x=713.79,color='r')\n",
        "plt.show()\n",
        "\n",
        "\"\"\"\n",
        "[[104.06155569]\n",
        " [282.91271451]\n",
        " [486.09697737]\n",
        " [713.78943904]]\n",
        "\"\"\""
      ],
      "metadata": {
        "colab": {
          "base_uri": "https://localhost:8080/",
          "height": 284
        },
        "id": "jtBj-I4P5OcR",
        "outputId": "2971159d-5da9-462c-d4ba-b681e3067215"
      },
      "execution_count": null,
      "outputs": [
        {
          "output_type": "display_data",
          "data": {
            "text/plain": [
              "<Figure size 432x288 with 1 Axes>"
            ],
            "image/png": "[encoded data removed]"
          },
          "metadata": {
            "needs_background": "light"
          }
        },
        {
          "output_type": "execute_result",
          "data": {
            "text/plain": [
              "'\\n[[104.06155569]\\n [282.91271451]\\n [486.09697737]\\n [713.78943904]]\\n'"
            ],
            "application/vnd.google.colaboratory.intrinsic+json": {
              "type": "string"
            }
          },
          "metadata": {},
          "execution_count": 35
        }
      ]
    },
    {
      "cell_type": "code",
      "execution_count": null,
      "metadata": {
        "id": "8inDqHhzOVpd"
      },
      "outputs": [],
      "source": [
        "df_zim=df_zim.iloc[:700,:]\n",
        "df_sa=df_sa.iloc[:710,:]"
      ]
    },
    {
      "cell_type": "code",
      "execution_count": null,
      "metadata": {
        "id": "qe3G94cnOX_l"
      },
      "outputs": [],
      "source": [
        "df_ind.reset_index(inplace=True,drop=True)\n",
        "df_zim.reset_index(inplace=True,drop=True)\n",
        "df_sa.reset_index(inplace=True,drop=True)\n",
        "df_afg.reset_index(inplace=True,drop=True)"
      ]
    },
    {
      "cell_type": "code",
      "execution_count": null,
      "metadata": {
        "id": "CTYJZg8gpebg"
      },
      "outputs": [],
      "source": [
        "m,d,y=df_ind.iloc[0,0].split(\"/\")\n",
        "date0=date(int(y),int(m),int(d))\n",
        "for i in range(df_ind.index.max()+1):\n",
        "  m1,d1,y1=df_ind.iloc[i,0].split(\"/\")\n",
        "  date1=date(int(y1),int(m1),int(d1))\n",
        "  df_ind.iloc[i,0]=(date1-date0).days\n",
        "  if df_ind.iloc[i,1]==0:\n",
        "    df_ind.iloc[i,1]=(df_ind.iloc[i-1,1]+df_ind.iloc[i+1,1])/2\n",
        "df_ind['new_cases']=df_ind['new_cases'].astype(int)\n",
        "\n",
        "m,d,y=df_sa.iloc[0,0].split(\"/\")\n",
        "date0=date(int(y),int(m),int(d))\n",
        "for i in range(df_sa.index.max()+1):\n",
        "  m1,d1,y1=df_sa.iloc[i,0].split(\"/\")\n",
        "  date1=date(int(y1),int(m1),int(d1))\n",
        "  df_sa.iloc[i,0]=(date1-date0).days\n",
        "  if df_sa.iloc[i,1]==0:\n",
        "    df_sa.iloc[i,1]=(df_sa.iloc[i-1,1]+df_sa.iloc[i+1,1])/2\n",
        "df_sa['new_cases']=df_sa['new_cases'].astype(int)\n",
        "\n",
        "m,d,y=df_zim.iloc[0,0].split(\"/\")\n",
        "date0=date(int(y),int(m),int(d))\n",
        "for i in range(df_zim.index.max()+1):\n",
        "  m1,d1,y1=df_zim.iloc[i,0].split(\"/\")\n",
        "  date1=date(int(y1),int(m1),int(d1))\n",
        "  df_zim.iloc[i,0]=(date1-date0).days\n",
        "  if df_zim.iloc[i,1]==0:\n",
        "    df_zim.iloc[i,1]=df_zim.iloc[i+1,1]/2\n",
        "    df_zim.iloc[i+1,1]=df_zim.iloc[i+1,1]-df_zim.iloc[i,1]\n",
        "df_zim['new_cases']=df_zim['new_cases'].astype(int)\n",
        "\n",
        "m,d,y=df_afg.iloc[0,0].split(\"/\")\n",
        "date0=date(int(y),int(m),int(d))\n",
        "for i in range(df_afg.index.max()+1):\n",
        "  m1,d1,y1=df_afg.iloc[i,0].split(\"/\")\n",
        "  date1=date(int(y1),int(m1),int(d1))\n",
        "  df_afg.iloc[i,0]=(date1-date0).days\n",
        "  if df_afg.iloc[i,1]==0:\n",
        "    df_afg.iloc[i,1]=(df_afg.iloc[i-1,1]+df_afg.iloc[i+1,1])/2\n",
        "df_afg['new_cases']=df_afg['new_cases'].astype(int)\n",
        "\n",
        "arr_ind=np.array([0])\n",
        "arr_ind=arr_ind.reshape(-1,1)\n",
        "arr_ind0=np.array(df_ind)\n",
        "lim=df_ind.index.max()+1\n",
        "for i in range(1,lim):\n",
        "  if df_ind.iloc[i,1]==0:\n",
        "    df_ind.iloc[i,1]=(df_ind.iloc[i-1,1]+df_ind.iloc[i+1,1])/2\n",
        "  day=arr_ind0[i][0]\n",
        "  num_cases=arr_ind0[i][1]\n",
        "  arr_ind=np.vstack((arr_ind,np.full((num_cases,1),day)))\n",
        "\n",
        "arr_sa=np.array([0])\n",
        "arr_sa=arr_sa.reshape(-1,1)\n",
        "arr_sa0=np.array(df_sa)\n",
        "lim=df_sa.index.max()+1\n",
        "for i in range(1,lim):\n",
        "  day=arr_sa0[i][0]\n",
        "  num_cases=arr_sa0[i][1]\n",
        "  arr_sa=np.vstack((arr_sa,np.full((num_cases,1),day)))\n",
        "\n",
        "arr_zim=np.array([0])\n",
        "arr_zim=arr_zim.reshape(-1,1)\n",
        "arr_zim0=np.array(df_zim)\n",
        "lim=df_zim.index.max()+1\n",
        "for i in range(1,lim):\n",
        "  day=arr_zim0[i][0]\n",
        "  num_cases=arr_zim0[i][1]\n",
        "  arr_zim=np.vstack((arr_zim,np.full((num_cases,1),day)))\n",
        "\n",
        "arr_afg=np.array([0])\n",
        "arr_afg=arr_afg.reshape(-1,1)\n",
        "arr_afg0=np.array(df_afg)\n",
        "lim=df_afg.index.max()+1\n",
        "for i in range(1,lim):\n",
        "  day=arr_afg0[i][0]\n",
        "  num_cases=arr_afg0[i][1]\n",
        "  arr_afg=np.vstack((arr_afg,np.full((num_cases,1),day)))"
      ]
    },
    {
      "cell_type": "code",
      "execution_count": null,
      "metadata": {
        "id": "LOd1SNHWmcwt",
        "colab": {
          "base_uri": "https://localhost:8080/",
          "height": 124
        },
        "outputId": "9b7012a0-2f82-48bf-ac27-56a8fa5b7ca7"
      },
      "outputs": [
        {
          "output_type": "stream",
          "name": "stdout",
          "text": [
            "[[1.36466722]]\n"
          ]
        },
        {
          "output_type": "execute_result",
          "data": {
            "text/plain": [
              "[<matplotlib.lines.Line2D at 0x7fc473ea6c10>]"
            ]
          },
          "metadata": {},
          "execution_count": 7
        },
        {
          "output_type": "display_data",
          "data": {
            "text/plain": [
              "<Figure size 432x288 with 1 Axes>"
            ],
            "image/png": "[encoded data removed]"
          },
          "metadata": {
            "needs_background": "light"
          }
        }
      ],
      "source": [
        "ms=[232.37,460.27,553.03,722.86]\n",
        "ms=np.array(ms)\n",
        "ms=ms.reshape(4,1)\n",
        "g=GaussianMixture(n_components=4, random_state=0,means_init=ms).fit(arr_ind)\n",
        "\n",
        "print(g.means_)"
      ]
    },
    {
      "cell_type": "code",
      "execution_count": null,
      "metadata": {
        "id": "ezecs-8qj79n",
        "colab": {
          "base_uri": "https://localhost:8080/"
        },
        "outputId": "883cd39d-afe0-4118-f65e-594dc5427bd5"
      },
      "outputs": [
        {
          "output_type": "stream",
          "name": "stdout",
          "text": [
            "[[137.09915806]\n",
            " [300.52953089]\n",
            " [298.9293571 ]\n",
            " [490.21680375]\n",
            " [640.53027534]]\n"
          ]
        }
      ],
      "source": [
        "ms=[139.873,257.044,299.802,499.212,630]\n",
        "ms=np.array(ms)\n",
        "ms=ms.reshape(5,1)\n",
        "g=GaussianMixture(n_components=5,means_init=ms).fit(arr_zim)\n",
        "\n",
        "print(g.means_)"
      ]
    },
    {
      "cell_type": "code",
      "execution_count": null,
      "metadata": {
        "id": "qjkwE5NRwqvf",
        "colab": {
          "base_uri": "https://localhost:8080/"
        },
        "outputId": "f94362f5-8b75-4a09-ccfb-2c356e44bab8"
      },
      "outputs": [
        {
          "output_type": "stream",
          "name": "stdout",
          "text": [
            "[[166.0013952 ]\n",
            " [331.18630151]\n",
            " [525.3876839 ]\n",
            " [680.26365708]]\n"
          ]
        }
      ],
      "source": [
        "ms=[145.41,332.79,510,690]\n",
        "ms=np.array(ms)\n",
        "ms=ms.reshape(4,1)\n",
        "g=GaussianMixture(n_components=4, random_state=0,means_init=ms).fit(arr_sa)\n",
        "\n",
        "print(g.means_)"
      ]
    },
    {
      "cell_type": "code",
      "execution_count": null,
      "metadata": {
        "id": "G3-QkhdkCt4B",
        "colab": {
          "base_uri": "https://localhost:8080/"
        },
        "outputId": "9ee3a16a-f7d5-48d2-9735-a29ba3540162"
      },
      "outputs": [
        {
          "output_type": "stream",
          "name": "stdout",
          "text": [
            "[[104.06155569]\n",
            " [282.91271451]\n",
            " [486.09697737]\n",
            " [713.78943904]]\n"
          ]
        }
      ],
      "source": [
        "ms=[104.08,282.89,486.08,705]\n",
        "ms=np.array(ms)\n",
        "ms=ms.reshape(4,1)\n",
        "g=GaussianMixture(n_components=4, random_state=0,means_init=ms).fit(arr_afg)\n",
        "\n",
        "print(g.means_)"
      ]
    },
    {
      "cell_type": "code",
      "source": [
        "print((460.27-232.37)/(299.40-137.85),(722.86-460.27)/(483.53-299.40),(640.53-483.53))\n",
        "print((460.27-232.37)/(331.18-165.43),(722.86-460.27)/(525.38-331.18),(680.26-525.38))\n",
        "print((460.27-232.37)/(282.91-104.06),(722.86-460.27)/(486.10-282.91),(713.79-486.10))"
      ],
      "metadata": {
        "colab": {
          "base_uri": "https://localhost:8080/"
        },
        "id": "2mep4JNN_SAZ",
        "outputId": "5fe7aabf-3231-4007-d3dd-5c30e8e8fa85"
      },
      "execution_count": null,
      "outputs": [
        {
          "output_type": "stream",
          "name": "stdout",
          "text": [
            "1.410708758898174 1.4261119860967797 157.0\n",
            "1.3749622926093512 1.3521627188465501 154.88\n",
            "1.2742521666200723 1.292337221319947 227.68999999999994\n"
          ]
        }
      ]
    },
    {
      "cell_type": "code",
      "source": [
        "print(((460.27-232.37)/(299.40-137.85)+(722.86-460.27)/(483.53-299.40))/2*(640.53-483.53))\n",
        "print(((460.27-232.37)/(331.18-165.43)+(722.86-460.27)/(525.38-331.18))/2*(680.26-525.38))\n",
        "print(((460.27-232.37)/(282.91-104.06)+(722.86-460.27)/(486.10-282.91))/2*(713.79-486.10))"
      ],
      "metadata": {
        "colab": {
          "base_uri": "https://localhost:8080/"
        },
        "id": "UvbdFuW1_SoE",
        "outputId": "ec633fa7-7543-4fc0-abda-bad490c63885"
      },
      "execution_count": null,
      "outputs": [
        {
          "output_type": "stream",
          "name": "stdout",
          "text": [
            "222.69042848210387\n",
            "211.18856088714497\n",
            "292.1933688700314\n"
          ]
        }
      ]
    },
    {
      "cell_type": "code",
      "source": [
        "list1=[222.69,211.19,292.19]\n",
        "for i in range(3):\n",
        "  x=722.86+list1[i]\n",
        "  from datetime import date\n",
        "  date0=date(2020,1,30)\n",
        "\n",
        "  from datetime import timedelta\n",
        "  y=date0+timedelta(days=x)\n",
        "  print(y)"
      ],
      "metadata": {
        "colab": {
          "base_uri": "https://localhost:8080/"
        },
        "id": "eeJ14GFSB2Ix",
        "outputId": "8cd1572a-644c-4b65-ea3f-1b17bcac7dcb"
      },
      "execution_count": null,
      "outputs": [
        {
          "output_type": "stream",
          "name": "stdout",
          "text": [
            "2022-09-01\n",
            "2022-08-21\n",
            "2022-11-10\n"
          ]
        }
      ]
    }
  ],
  "metadata": {
    "colab": {
      "provenance": []
    },
    "kernelspec": {
      "display_name": "Python 3",
      "name": "python3"
    },
    "language_info": {
      "name": "python"
    }
  },
  "nbformat": 4,
  "nbformat_minor": 0
}