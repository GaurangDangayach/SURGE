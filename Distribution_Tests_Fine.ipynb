{
  "nbformat": 4,
  "nbformat_minor": 0,
  "metadata": {
    "colab": {
      "provenance": []
    },
    "kernelspec": {
      "name": "python3",
      "display_name": "Python 3"
    },
    "language_info": {
      "name": "python"
    }
  },
  "cells": [
    {
      "cell_type": "code",
      "execution_count": null,
      "metadata": {
        "id": "kZFRAW7zic_t",
        "colab": {
          "base_uri": "https://localhost:8080/"
        },
        "outputId": "d36f2a79-6df9-4d4f-ef2b-7c7b800a0fd8"
      },
      "outputs": [
        {
          "output_type": "stream",
          "name": "stderr",
          "text": [
            "/usr/local/lib/python3.7/dist-packages/statsmodels/tools/_testing.py:19: FutureWarning: pandas.util.testing is deprecated. Use the functions in the public API at pandas.testing instead.\n",
            "  import pandas.util.testing as tm\n"
          ]
        }
      ],
      "source": [
        "from google.colab import files\n",
        "import io\n",
        "import math\n",
        "import pandas as pd\n",
        "import numpy as np\n",
        "import matplotlib.pyplot as plt\n",
        "import statsmodels.api as sm\n",
        "import statsmodels.formula.api as smf\n",
        "import scipy.stats as stats\n",
        "from sklearn.mixture import GaussianMixture\n",
        "from pylab import concatenate, normal\n",
        "from scipy.stats import ks_2samp\n",
        "from datetime import date"
      ]
    },
    {
      "cell_type": "code",
      "source": [
        "uploaded = files.upload()\n",
        "df = pd.read_csv(io.BytesIO(uploaded['owid-covid-data.csv']))"
      ],
      "metadata": {
        "colab": {
          "base_uri": "https://localhost:8080/",
          "resources": {
            "http://localhost:8080/nbextensions/google.colab/files.js": {
              "data": "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",
              "ok": true,
              "headers": [
                [
                  "content-type",
                  "application/javascript"
                ]
              ],
              "status": 200,
              "status_text": ""
            }
          },
          "height": 74
        },
        "id": "HLeKMPafn7bn",
        "outputId": "4b5d0b85-c925-4890-ff40-1843130a7e47"
      },
      "execution_count": null,
      "outputs": [
        {
          "output_type": "display_data",
          "data": {
            "text/plain": [
              "<IPython.core.display.HTML object>"
            ],
            "text/html": [
              "\n",
              "     <input type=\"file\" id=\"files-4702482c-7c44-4ebf-b216-bba18196a90f\" name=\"files[]\" multiple disabled\n",
              "        style=\"border:none\" />\n",
              "     <output id=\"result-4702482c-7c44-4ebf-b216-bba18196a90f\">\n",
              "      Upload widget is only available when the cell has been executed in the\n",
              "      current browser session. Please rerun this cell to enable.\n",
              "      </output>\n",
              "      <script src=\"/nbextensions/google.colab/files.js\"></script> "
            ]
          },
          "metadata": {}
        },
        {
          "output_type": "stream",
          "name": "stdout",
          "text": [
            "Saving owid-covid-data.csv to owid-covid-data (1).csv\n"
          ]
        }
      ]
    },
    {
      "cell_type": "code",
      "source": [
        "df = pd.read_csv(io.BytesIO(uploaded['owid-covid-data.csv']))"
      ],
      "metadata": {
        "id": "ainPfEIYaQf-"
      },
      "execution_count": null,
      "outputs": []
    },
    {
      "cell_type": "code",
      "source": [
        "df=df.fillna(0)\n",
        "df_ind = df.loc[df[\"location\"] == \"India\"]\n",
        "df_sa = df.loc[df[\"location\"] == \"South Africa\"]\n",
        "df_zim = df.loc[df[\"location\"] == \"Zimbabwe\"]\n",
        "df_ind=df_ind.iloc[:,[3,5]]\n",
        "df_sa=df_sa.iloc[:,[3,5]]\n",
        "df_zim=df_zim.iloc[:,[3,5]]"
      ],
      "metadata": {
        "id": "97-33Odbi4fM"
      },
      "execution_count": null,
      "outputs": []
    },
    {
      "cell_type": "code",
      "source": [
        "df_zim=df_zim.iloc[:600,:]\n",
        "df_sa=df_sa.iloc[:650,:]"
      ],
      "metadata": {
        "id": "8inDqHhzOVpd"
      },
      "execution_count": null,
      "outputs": []
    },
    {
      "cell_type": "code",
      "source": [
        "df_ind.reset_index(inplace=True,drop=True)\n",
        "df_zim.reset_index(inplace=True,drop=True)\n",
        "df_sa.reset_index(inplace=True,drop=True)"
      ],
      "metadata": {
        "id": "qe3G94cnOX_l"
      },
      "execution_count": null,
      "outputs": []
    },
    {
      "cell_type": "code",
      "source": [
        "m,d,y=df_ind.iloc[0,0].split(\"/\")\n",
        "date0=date(int(y),int(m),int(d))\n",
        "for i in range(df_ind.index.max()+1):\n",
        "  m1,d1,y1=df_ind.iloc[i,0].split(\"/\")\n",
        "  date1=date(int(y1),int(m1),int(d1))\n",
        "  df_ind.iloc[i,0]=(date1-date0).days\n",
        "  if df_ind.iloc[i,1]==0:\n",
        "    df_ind.iloc[i,1]=(df_ind.iloc[i-1,1]+df_ind.iloc[i+1,1])/2\n",
        "df_ind['new_cases']=df_ind['new_cases'].astype(int)\n",
        "\n",
        "m,d,y=df_sa.iloc[0,0].split(\"/\")\n",
        "date0=date(int(y),int(m),int(d))\n",
        "for i in range(df_sa.index.max()+1):\n",
        "  m1,d1,y1=df_sa.iloc[i,0].split(\"/\")\n",
        "  date1=date(int(y1),int(m1),int(d1))\n",
        "  df_sa.iloc[i,0]=(date1-date0).days\n",
        "  if df_sa.iloc[i,1]==0:\n",
        "    df_sa.iloc[i,1]=(df_sa.iloc[i-1,1]+df_sa.iloc[i+1,1])/2\n",
        "df_sa['new_cases']=df_sa['new_cases'].astype(int)\n",
        "\n",
        "m,d,y=df_zim.iloc[0,0].split(\"/\")\n",
        "date0=date(int(y),int(m),int(d))\n",
        "for i in range(df_zim.index.max()+1):\n",
        "  m1,d1,y1=df_zim.iloc[i,0].split(\"/\")\n",
        "  date1=date(int(y1),int(m1),int(d1))\n",
        "  df_zim.iloc[i,0]=(date1-date0).days\n",
        "  if df_zim.iloc[i,1]==0:\n",
        "    df_zim.iloc[i,1]=df_zim.iloc[i+1,1]/2\n",
        "    df_zim.iloc[i+1,1]=df_zim.iloc[i+1,1]-df_zim.iloc[i,1]\n",
        "df_zim['new_cases']=df_zim['new_cases'].astype(int)\n",
        "\n",
        "arr_ind=np.array([0])\n",
        "arr_ind=arr_ind.reshape(-1,1)\n",
        "arr_ind0=np.array(df_ind)\n",
        "lim=df_ind.index.max()+1\n",
        "for i in range(1,lim):\n",
        "  if df_ind.iloc[i,1]==0:\n",
        "    df_ind.iloc[i,1]=(df_ind.iloc[i-1,1]+df_ind.iloc[i+1,1])/2\n",
        "  day=arr_ind0[i][0]\n",
        "  num_cases=arr_ind0[i][1]\n",
        "  arr_ind=np.vstack((arr_ind,np.full((num_cases,1),day)))\n",
        "\n",
        "arr_sa=np.array([0])\n",
        "arr_sa=arr_sa.reshape(-1,1)\n",
        "arr_sa0=np.array(df_sa)\n",
        "lim=df_sa.index.max()+1\n",
        "for i in range(1,lim):\n",
        "  day=arr_sa0[i][0]\n",
        "  num_cases=arr_sa0[i][1]\n",
        "  arr_sa=np.vstack((arr_sa,np.full((num_cases,1),day)))\n",
        "\n",
        "arr_zim=np.array([0])\n",
        "arr_zim=arr_zim.reshape(-1,1)\n",
        "arr_zim0=np.array(df_zim)\n",
        "lim=df_zim.index.max()+1\n",
        "for i in range(1,lim):\n",
        "  day=arr_zim0[i][0]\n",
        "  num_cases=arr_zim0[i][1]\n",
        "  arr_zim=np.vstack((arr_zim,np.full((num_cases,1),day)))"
      ],
      "metadata": {
        "id": "CTYJZg8gpebg"
      },
      "execution_count": null,
      "outputs": []
    },
    {
      "cell_type": "code",
      "source": [
        "ms=[232.37,460.27,553.03,722.86]\n",
        "ms=np.array(ms)\n",
        "ms=ms.reshape(4,1)\n",
        "g=GaussianMixture(n_components=4, random_state=0,means_init=ms).fit(arr_ind)\n",
        "\n",
        "n, bins, patches = plt.hist(arr_ind, df_ind['new_cases'].size, facecolor='blue', alpha=0.2)\n",
        "x = np.linspace(df_ind['date'].min(),df_ind['date'].max(),200).reshape(200,1)\n",
        "\n",
        "Y1 = arr_ind.size*g.weights_[0]*stats.norm.pdf(x,g.means_[0],np.sqrt(g.covariances_[0]))\n",
        "Y2 = arr_ind.size*g.weights_[1]*stats.norm.pdf(x,g.means_[1],np.sqrt(g.covariances_[1]))\n",
        "Y3 = arr_ind.size*g.weights_[3]*stats.norm.pdf(x,g.means_[3],np.sqrt(g.covariances_[3]))\n",
        "Y2b = arr_ind.size*g.weights_[2]*stats.norm.pdf(x,g.means_[2],np.sqrt(g.covariances_[2]))\n",
        "\n",
        "#plt.plot(x,Y1, c='red')\n",
        "#plt.plot(x,Y2, c='green')\n",
        "#plt.plot(x,Y3, c='blue')\n",
        "#plt.plot(x,Y2b, c='pink')\n",
        "#plt.plot(x, Y1+Y2+Y3+Y2b, c='black', alpha=0.2)\n",
        "\n",
        "india_overall = Y1+Y2+Y3+Y2b\n",
        "ior = Y1/max(Y1)+(Y2+Y2b)/max(Y2+Y2b)+Y3/max(Y3)\n",
        "\n",
        "dist = (3*np.sqrt(g.covariances_[0]) + g.means_[3] - g.means_[0] + 3*np.sqrt(g.covariances_[3]))/500\n",
        "print(dist)\n",
        "#y1 = arr_ind.size*g.weights_[0]/dist*stats.norm.pdf(x,3*np.sqrt(g.covariances_[0])/dist,np.sqrt(g.covariances_[0])/dist)\n",
        "#y2 = arr_ind.size*g.weights_[1]/dist*stats.norm.pdf(x,(3*np.sqrt(g.covariances_[0])+g.means_[1]-g.means_[0])/dist,np.sqrt(g.covariances_[1])/dist)\n",
        "#y3 = arr_ind.size*g.weights_[3]/dist*stats.norm.pdf(x,(3*np.sqrt(g.covariances_[0])+g.means_[3]-g.means_[0])/dist,np.sqrt(g.covariances_[3])/dist)\n",
        "#y2b = arr_ind.size*g.weights_[2]/dist*stats.norm.pdf(x,(3*np.sqrt(g.covariances_[0])+g.means_[2]-g.means_[0])/dist,np.sqrt(g.covariances_[2])/dist)\n",
        "\n",
        "y1 = 100*g.weights_[0]*stats.norm.pdf(x,3*np.sqrt(g.covariances_[0])/dist,np.sqrt(g.covariances_[0])/dist)\n",
        "y2 = 100*g.weights_[1]*stats.norm.pdf(x,(3*np.sqrt(g.covariances_[0])+g.means_[1]-g.means_[0])/dist,np.sqrt(g.covariances_[1])/dist)\n",
        "y3 = 100*g.weights_[3]*stats.norm.pdf(x,(3*np.sqrt(g.covariances_[0])+g.means_[3]-g.means_[0])/dist,np.sqrt(g.covariances_[3])/dist)\n",
        "y2b = 100*g.weights_[2]*stats.norm.pdf(x,(3*np.sqrt(g.covariances_[0])+g.means_[2]-g.means_[0])/dist,np.sqrt(g.covariances_[2])/dist)\n",
        "\n",
        "new_india_overall = y1+y2+y3+y2b\n",
        "new_ior = y1/max(y1)+(y2+y2b)/max(y2+y2b) + y3/max(y3)\n",
        "plt.plot(x,new_india_overall, c='green')\n",
        "plt.plot(x,new_ior, c='blue')"
      ],
      "metadata": {
        "colab": {
          "base_uri": "https://localhost:8080/",
          "height": 300
        },
        "id": "LOd1SNHWmcwt",
        "outputId": "dca16a9d-4390-46a0-f0fc-78ce5338509f"
      },
      "execution_count": null,
      "outputs": [
        {
          "output_type": "stream",
          "name": "stdout",
          "text": [
            "[[1.36466722]]\n"
          ]
        },
        {
          "output_type": "execute_result",
          "data": {
            "text/plain": [
              "[<matplotlib.lines.Line2D at 0x7f826ec1e890>]"
            ]
          },
          "metadata": {},
          "execution_count": 21
        },
        {
          "output_type": "display_data",
          "data": {
            "text/plain": [
              "<Figure size 432x288 with 1 Axes>"
            ],
            "image/png": "[encoded data removed]"
          },
          "metadata": {
            "needs_background": "light"
          }
        }
      ]
    },
    {
      "cell_type": "code",
      "source": [
        "ms=[139.873,257.044,299.802,482.366,499.212]\n",
        "ms=np.array(ms)\n",
        "ms=ms.reshape(5,1)\n",
        "sum=0.059+0.032+0.169+0.307+0.194\n",
        "ws=[0.059/sum,0.032/sum,0.169/sum,0.307/sum,0.194/sum]\n",
        "ws=np.array(ws)\n",
        "g=GaussianMixture(n_components=5, random_state=0,means_init=ms,weights_init=ws).fit(arr_zim)\n",
        "\n",
        "n, bins, patches = plt.hist(arr_zim, df_zim['new_cases'].size, facecolor='blue', alpha=0.2)\n",
        "x = np.linspace(df_zim['date'].min(),df_zim['date'].max(),200).reshape(200,1)\n",
        "\n",
        "Y1 = arr_zim.size*g.weights_[0]*stats.norm.pdf(x,g.means_[0],np.sqrt(g.covariances_[0]))\n",
        "Y2 = arr_zim.size*g.weights_[1]*stats.norm.pdf(x,g.means_[1],np.sqrt(g.covariances_[1]))\n",
        "Y3 = arr_zim.size*g.weights_[2]*stats.norm.pdf(x,g.means_[2],np.sqrt(g.covariances_[2]))\n",
        "Y4 = arr_zim.size*g.weights_[3]*stats.norm.pdf(x,g.means_[3],np.sqrt(g.covariances_[3]))\n",
        "Y5 = arr_zim.size*g.weights_[4]*stats.norm.pdf(x,g.means_[4],np.sqrt(g.covariances_[4]))\n",
        "\n",
        "#plt.plot(x,Y1, c='red')\n",
        "#plt.plot(x,Y2+Y3, c='green')\n",
        "#plt.plot(x,Y4+Y5, c='blue')\n",
        "#plt.plot(x, Y1+Y2+Y3+Y4+Y5, c='black', alpha=0.2)\n",
        "\n",
        "zim_overall = Y1+Y2+Y3+Y4+Y5\n",
        "zor = Y1/max(Y1)+(Y2+Y3)/max(Y2+Y3)+(Y4+Y5)/max(Y4+Y5)\n",
        "\n",
        "dist = (3*np.sqrt(g.covariances_[0]) + g.means_[4] - g.means_[0] + 3*np.sqrt(g.covariances_[3]))/500\n",
        "print(dist)\n",
        "#y1 = arr_zim.size/dist*g.weights_[0]*stats.norm.pdf(x,3*np.sqrt(g.covariances_[0])/dist,np.sqrt(g.covariances_[0])/dist)\n",
        "#y2 = arr_zim.size/dist*g.weights_[1]*stats.norm.pdf(x,(3*np.sqrt(g.covariances_[0])+g.means_[1]-g.means_[0])/dist,np.sqrt(g.covariances_[1])/dist)\n",
        "#y3 = arr_zim.size/dist*g.weights_[2]*stats.norm.pdf(x,(3*np.sqrt(g.covariances_[0])+g.means_[2]-g.means_[0])/dist,np.sqrt(g.covariances_[2])/dist)\n",
        "#y4 = arr_zim.size/dist*g.weights_[3]*stats.norm.pdf(x,(3*np.sqrt(g.covariances_[0])+g.means_[3]-g.means_[0])/dist,np.sqrt(g.covariances_[3])/dist)\n",
        "#y5 = arr_zim.size/dist*g.weights_[4]*stats.norm.pdf(x,(3*np.sqrt(g.covariances_[0])+g.means_[4]-g.means_[0])/dist,np.sqrt(g.covariances_[4])/dist)\n",
        "\n",
        "y1 = 100*g.weights_[0]*stats.norm.pdf(x,3*np.sqrt(g.covariances_[0])/dist,np.sqrt(g.covariances_[0])/dist)\n",
        "y2 = 100*g.weights_[1]*stats.norm.pdf(x,(3*np.sqrt(g.covariances_[0])+g.means_[1]-g.means_[0])/dist,np.sqrt(g.covariances_[1])/dist)\n",
        "y3 = 100*g.weights_[2]*stats.norm.pdf(x,(3*np.sqrt(g.covariances_[0])+g.means_[2]-g.means_[0])/dist,np.sqrt(g.covariances_[2])/dist)\n",
        "y4 = 100*g.weights_[3]*stats.norm.pdf(x,(3*np.sqrt(g.covariances_[0])+g.means_[3]-g.means_[0])/dist,np.sqrt(g.covariances_[3])/dist)\n",
        "y5 = 100*g.weights_[4]*stats.norm.pdf(x,(3*np.sqrt(g.covariances_[0])+g.means_[4]-g.means_[0])/dist,np.sqrt(g.covariances_[4])/dist)\n",
        "\n",
        "new_zim_overall = y1+y2+y3+y4+y5\n",
        "new_zor = y1/max(y1)+(y2+y3)/max(y2+y3) + (y4+y5)/max(y4+y5)\n",
        "\n",
        "plt.plot(x,new_zim_overall, c='green')\n",
        "plt.plot(x,new_zor, c='blue')"
      ],
      "metadata": {
        "colab": {
          "base_uri": "https://localhost:8080/",
          "height": 300
        },
        "id": "ezecs-8qj79n",
        "outputId": "bac7db65-3916-4336-fa9d-600af7a07478"
      },
      "execution_count": null,
      "outputs": [
        {
          "output_type": "stream",
          "name": "stdout",
          "text": [
            "[[1.07461155]]\n"
          ]
        },
        {
          "output_type": "execute_result",
          "data": {
            "text/plain": [
              "[<matplotlib.lines.Line2D at 0x7f826e487bd0>]"
            ]
          },
          "metadata": {},
          "execution_count": 22
        },
        {
          "output_type": "display_data",
          "data": {
            "text/plain": [
              "<Figure size 432x288 with 1 Axes>"
            ],
            "image/png": "[encoded data removed]"
          },
          "metadata": {
            "needs_background": "light"
          }
        }
      ]
    },
    {
      "cell_type": "code",
      "source": [
        "ms=[145.41,164.50,332.79,506.20,538.45,566.85]\n",
        "ms=np.array(ms)\n",
        "ms=ms.reshape(6,1)\n",
        "g=GaussianMixture(n_components=6, random_state=0,means_init=ms).fit(arr_sa)\n",
        "\n",
        "n, bins, patches = plt.hist(arr_sa, df_sa['new_cases'].size, facecolor='blue', alpha=0.2)\n",
        "x = np.linspace(df_sa['date'].min(),df_sa['date'].max(),200).reshape(200,1)\n",
        "\n",
        "Y1 = arr_sa.size*g.weights_[0]*stats.norm.pdf(x,g.means_[0],np.sqrt(g.covariances_[0]))\n",
        "Y1b = arr_sa.size*g.weights_[1]*stats.norm.pdf(x,g.means_[1],np.sqrt(g.covariances_[1]))\n",
        "Y2 = arr_sa.size*g.weights_[2]*stats.norm.pdf(x,g.means_[2],np.sqrt(g.covariances_[2]))\n",
        "Y3 = arr_sa.size*g.weights_[3]*stats.norm.pdf(x,g.means_[3],np.sqrt(g.covariances_[3]))\n",
        "Y3b = arr_sa.size*g.weights_[4]*stats.norm.pdf(x,g.means_[4],np.sqrt(g.covariances_[4]))\n",
        "Y3c = arr_sa.size*g.weights_[5]*stats.norm.pdf(x,g.means_[5],np.sqrt(g.covariances_[5]))\n",
        "\n",
        "plt.plot(x, Y1+Y1b+Y2+Y3+Y3b+Y3c, c='black', alpha=0.2)\n",
        "sa_overall = Y1+Y1b+Y2+Y3+Y3b+Y3c\n",
        "saor = (Y1+Y1b)/max(Y1+Y1b)+Y2/max(Y2)+(Y3+Y3b+Y3c)/max(Y3+Y3b+Y3c)\n",
        "\n",
        "dist = (3*np.sqrt(g.covariances_[0]) + g.means_[5] - g.means_[0] + 3*np.sqrt(g.covariances_[5]))/500\n",
        "print(dist)\n",
        "#y1 = arr_sa.size/dist*g.weights_[0]*stats.norm.pdf(x,3*np.sqrt(g.covariances_[0])/dist,np.sqrt(g.covariances_[0])/dist)\n",
        "#y1b = arr_sa.size/dist*g.weights_[1]*stats.norm.pdf(x,(3*np.sqrt(g.covariances_[0])+g.means_[1]-g.means_[0])/dist,np.sqrt(g.covariances_[1])/dist)\n",
        "#y2 = arr_sa.size/dist*g.weights_[2]*stats.norm.pdf(x,(3*np.sqrt(g.covariances_[0])+g.means_[2]-g.means_[0])/dist,np.sqrt(g.covariances_[2])/dist)\n",
        "#y3 = arr_sa.size/dist*g.weights_[3]*stats.norm.pdf(x,(3*np.sqrt(g.covariances_[0])+g.means_[3]-g.means_[0])/dist,np.sqrt(g.covariances_[3])/dist)\n",
        "#y3b = arr_sa.size/dist*g.weights_[4]*stats.norm.pdf(x,(3*np.sqrt(g.covariances_[0])+g.means_[4]-g.means_[0])/dist,np.sqrt(g.covariances_[4])/dist)\n",
        "#y3c = arr_sa.size/dist*g.weights_[5]*stats.norm.pdf(x,(3*np.sqrt(g.covariances_[0])+g.means_[5]-g.means_[0])/dist,np.sqrt(g.covariances_[5])/dist)\n",
        "\n",
        "y1 = 100*g.weights_[0]*stats.norm.pdf(x,3*np.sqrt(g.covariances_[0])/dist,np.sqrt(g.covariances_[0])/dist)\n",
        "y1b = 100*g.weights_[1]*stats.norm.pdf(x,(3*np.sqrt(g.covariances_[0])+g.means_[1]-g.means_[0])/dist,np.sqrt(g.covariances_[1])/dist)\n",
        "y2 = 100*g.weights_[2]*stats.norm.pdf(x,(3*np.sqrt(g.covariances_[0])+g.means_[2]-g.means_[0])/dist,np.sqrt(g.covariances_[2])/dist)\n",
        "y3 = 100*g.weights_[3]*stats.norm.pdf(x,(3*np.sqrt(g.covariances_[0])+g.means_[3]-g.means_[0])/dist,np.sqrt(g.covariances_[3])/dist)\n",
        "y3b = 100*g.weights_[4]*stats.norm.pdf(x,(3*np.sqrt(g.covariances_[0])+g.means_[4]-g.means_[0])/dist,np.sqrt(g.covariances_[4])/dist)\n",
        "y3c = 100*g.weights_[5]*stats.norm.pdf(x,(3*np.sqrt(g.covariances_[0])+g.means_[5]-g.means_[0])/dist,np.sqrt(g.covariances_[5])/dist)\n",
        "\n",
        "new_sa_overall = y1+y1b+y2+y3+y3b+y3c\n",
        "new_saor = (y1+y1b)/max(y1) + y2/max(y2) + (y3+y3b+y3c)/max(y3+y3b+y3c)\n",
        "\n",
        "plt.plot(x,new_sa_overall, c='green')\n",
        "plt.plot(x,new_saor, c='blue')"
      ],
      "metadata": {
        "colab": {
          "base_uri": "https://localhost:8080/",
          "height": 300
        },
        "id": "qjkwE5NRwqvf",
        "outputId": "fe32c98c-a257-4278-df1c-2d11530d1cf9"
      },
      "execution_count": null,
      "outputs": [
        {
          "output_type": "stream",
          "name": "stdout",
          "text": [
            "[[1.24289448]]\n"
          ]
        },
        {
          "output_type": "execute_result",
          "data": {
            "text/plain": [
              "[<matplotlib.lines.Line2D at 0x7f826dcd60d0>]"
            ]
          },
          "metadata": {},
          "execution_count": 23
        },
        {
          "output_type": "display_data",
          "data": {
            "text/plain": [
              "<Figure size 432x288 with 1 Axes>"
            ],
            "image/png": "[encoded data removed]"
          },
          "metadata": {
            "needs_background": "light"
          }
        }
      ]
    },
    {
      "cell_type": "code",
      "source": [
        "india_overall = np.ravel(india_overall)\n",
        "zim_overall = np.ravel(zim_overall)\n",
        "sa_overall = np.ravel(sa_overall)\n",
        "ior = np.ravel(ior)\n",
        "zor = np.ravel(zor)\n",
        "saor = np.ravel(saor)"
      ],
      "metadata": {
        "id": "9zZPwKwkl_Dt"
      },
      "execution_count": null,
      "outputs": []
    },
    {
      "cell_type": "code",
      "source": [
        "print(\"Ind vs Zim : \",ks_2samp(india_overall, zim_overall))\n",
        "print(\"Ind vs SA : \",ks_2samp(india_overall, sa_overall))\n",
        "print(\"Ind vs Zim : \",ks_2samp(ior, zor))\n",
        "print(\"Ind vs SA : \",ks_2samp(ior, saor))"
      ],
      "metadata": {
        "colab": {
          "base_uri": "https://localhost:8080/"
        },
        "id": "H__cLuCOQIAS",
        "outputId": "3adfed9b-3ee0-4c90-9b81-ccc2ad209292"
      },
      "execution_count": null,
      "outputs": [
        {
          "output_type": "stream",
          "name": "stdout",
          "text": [
            "Ind vs Zim :  Ks_2sampResult(statistic=0.81, pvalue=4.569224815484179e-66)\n",
            "Ind vs SA :  Ks_2sampResult(statistic=0.63, pvalue=1.5506384306777397e-37)\n",
            "Ind vs Zim :  Ks_2sampResult(statistic=0.105, pvalue=0.220541217580421)\n",
            "Ind vs SA :  Ks_2sampResult(statistic=0.18, pvalue=0.0030098470801667434)\n"
          ]
        }
      ]
    },
    {
      "cell_type": "code",
      "source": [
        "print(\"Zim vs SA : \",mwu(zor, saor))"
      ],
      "metadata": {
        "colab": {
          "base_uri": "https://localhost:8080/"
        },
        "id": "ZszfmrHjIWAV",
        "outputId": "472ec72e-c49a-4cc7-97f1-5a144221ac12"
      },
      "execution_count": null,
      "outputs": [
        {
          "output_type": "stream",
          "name": "stdout",
          "text": [
            "Zim vs SA :  MannwhitneyuResult(statistic=15968.0, pvalue=0.00024421252526040386)\n"
          ]
        }
      ]
    },
    {
      "cell_type": "code",
      "source": [
        "from scipy.stats import epps_singleton_2samp as epps\n",
        "print(\"Ind vs Zim : \",epps(india_overall, zim_overall))\n",
        "print(\"Ind vs SA : \",epps(india_overall, sa_overall))\n",
        "print(\"Ind vs Zim : \",epps(ior, zor))\n",
        "print(\"Ind vs SA : \",epps(ior, saor))"
      ],
      "metadata": {
        "colab": {
          "base_uri": "https://localhost:8080/"
        },
        "id": "KxvV9cdh4oYD",
        "outputId": "5d15a68b-4d0f-46b4-cc87-b2e4c5f7e7dc"
      },
      "execution_count": null,
      "outputs": [
        {
          "output_type": "stream",
          "name": "stdout",
          "text": [
            "Ind vs Zim :  Epps_Singleton_2sampResult(statistic=437.1370190464931, pvalue=2.621032765206613e-93)\n",
            "Ind vs SA :  Epps_Singleton_2sampResult(statistic=242.77449849726804, pvalue=2.3438167396353172e-51)\n",
            "Ind vs Zim :  Epps_Singleton_2sampResult(statistic=2.3826036083298954, pvalue=0.6657733339297436)\n",
            "Ind vs SA :  Epps_Singleton_2sampResult(statistic=5.847574814393735, pvalue=0.21082433147189003)\n"
          ]
        }
      ]
    },
    {
      "cell_type": "code",
      "source": [
        "from scipy.stats import mannwhitneyu as mwu\n",
        "print(\"Ind vs Zim : \",mwu(india_overall, zim_overall))\n",
        "print(\"Ind vs SA : \",mwu(india_overall, sa_overall))\n",
        "print(\"Ind vs Zim : \",mwu(ior, zor))\n",
        "print(\"Ind vs SA : \",mwu(ior, saor))"
      ],
      "metadata": {
        "colab": {
          "base_uri": "https://localhost:8080/"
        },
        "id": "tR8EL7kd7W1z",
        "outputId": "ace40b58-b1cb-43be-8bff-6c78e0c65946"
      },
      "execution_count": null,
      "outputs": [
        {
          "output_type": "stream",
          "name": "stdout",
          "text": [
            "Ind vs Zim :  MannwhitneyuResult(statistic=1888.0, pvalue=1.302903948189181e-55)\n",
            "Ind vs SA :  MannwhitneyuResult(statistic=7302.0, pvalue=2.315987305358855e-28)\n",
            "Ind vs Zim :  MannwhitneyuResult(statistic=18325.0, pvalue=0.07375956308917317)\n",
            "Ind vs SA :  MannwhitneyuResult(statistic=17457.0, pvalue=0.013934610013111165)\n"
          ]
        }
      ]
    },
    {
      "cell_type": "code",
      "source": [
        "from scipy.stats import brunnermunzel as bmz\n",
        "print(\"Ind vs Zim : \",bmz(india_overall, zim_overall))\n",
        "print(\"Ind vs SA : \",bmz(india_overall, sa_overall))\n",
        "print(\"Ind vs Zim : \",bmz(ior, zor))\n",
        "print(\"Ind vs SA : \",bmz(ior, saor))"
      ],
      "metadata": {
        "id": "FKzBppSNAI3T",
        "colab": {
          "base_uri": "https://localhost:8080/"
        },
        "outputId": "3d271ba8-3bed-4df5-e871-8630768ebce6"
      },
      "execution_count": null,
      "outputs": [
        {
          "output_type": "stream",
          "name": "stdout",
          "text": [
            "Ind vs Zim :  BrunnerMunzelResult(statistic=-40.081831784606095, pvalue=6.308437116673605e-106)\n",
            "Ind vs SA :  BrunnerMunzelResult(statistic=-13.825291317555747, pvalue=3.337793346683606e-32)\n",
            "Ind vs Zim :  BrunnerMunzelResult(statistic=-1.4483872138711573, pvalue=0.14829878660773982)\n",
            "Ind vs SA :  BrunnerMunzelResult(statistic=2.208950409472715, pvalue=0.027749401154960607)\n"
          ]
        }
      ]
    },
    {
      "cell_type": "code",
      "source": [
        "from scipy.stats import anderson_ksamp as adt\n",
        "print(\"Ind vs Zim : \",adt([india_overall, zim_overall]))\n",
        "print(\"Ind vs SA : \",adt([india_overall, sa_overall]))\n",
        "print(\"Ind vs Zim : \",adt([ior, zor]))\n",
        "print(\"Ind vs SA : \",adt([ior, saor]))"
      ],
      "metadata": {
        "colab": {
          "base_uri": "https://localhost:8080/"
        },
        "id": "u1AC_JTTFSPy",
        "outputId": "8f5316e5-202b-4b18-f32c-1f9dfdb3b17f"
      },
      "execution_count": null,
      "outputs": [
        {
          "output_type": "stream",
          "name": "stdout",
          "text": [
            "Ind vs Zim :  Anderson_ksampResult(statistic=165.0537039342299, critical_values=array([0.325, 1.226, 1.961, 2.718, 3.752, 4.592, 6.546]), significance_level=0.001)\n",
            "Ind vs SA :  Anderson_ksampResult(statistic=87.94890966606297, critical_values=array([0.325, 1.226, 1.961, 2.718, 3.752, 4.592, 6.546]), significance_level=0.001)\n",
            "Ind vs Zim :  Anderson_ksampResult(statistic=1.0321404678898727, critical_values=array([0.325, 1.226, 1.961, 2.718, 3.752, 4.592, 6.546]), significance_level=0.12257710310702745)\n",
            "Ind vs SA :  Anderson_ksampResult(statistic=2.8597348021209004, critical_values=array([0.325, 1.226, 1.961, 2.718, 3.752, 4.592, 6.546]), significance_level=0.022099388417538595)\n"
          ]
        },
        {
          "output_type": "stream",
          "name": "stderr",
          "text": [
            "/usr/local/lib/python3.7/dist-packages/ipykernel_launcher.py:2: UserWarning: p-value floored: true value smaller than 0.001\n",
            "  \n",
            "/usr/local/lib/python3.7/dist-packages/ipykernel_launcher.py:3: UserWarning: p-value floored: true value smaller than 0.001\n",
            "  This is separate from the ipykernel package so we can avoid doing imports until\n"
          ]
        }
      ]
    },
    {
      "cell_type": "code",
      "source": [
        "from scipy.stats import kruskal\n",
        "print(\"Ind vs Zim : \",kruskal(india_overall, zim_overall))\n",
        "print(\"Ind vs SA : \",kruskal(india_overall, sa_overall))\n",
        "print(\"Ind vs Zim : \",kruskal(ior, zor))\n",
        "print(\"Ind vs SA : \",kruskal(ior, saor))"
      ],
      "metadata": {
        "colab": {
          "base_uri": "https://localhost:8080/"
        },
        "id": "shc71Nk1HHrW",
        "outputId": "2b6d9176-fd6d-4309-9657-2da72a54bc48"
      },
      "execution_count": null,
      "outputs": [
        {
          "output_type": "stream",
          "name": "stdout",
          "text": [
            "Ind vs Zim :  KruskalResult(statistic=245.41985835411447, pvalue=2.5881424183612826e-55)\n",
            "Ind vs SA :  KruskalResult(statistic=120.62783341645877, pvalue=4.60984727548497e-28)\n",
            "Ind vs Zim :  KruskalResult(statistic=2.0989713216956716, pvalue=0.1473982756023858)\n",
            "Ind vs SA :  KruskalResult(statistic=4.838041645885141, pvalue=0.02783849178699295)\n"
          ]
        }
      ]
    },
    {
      "cell_type": "code",
      "source": [
        "new_india_overall = np.ravel(new_india_overall)\n",
        "new_zim_overall = np.ravel(new_zim_overall)\n",
        "new_sa_overall = np.ravel(new_sa_overall)\n",
        "new_ior = np.ravel(new_ior)\n",
        "new_zor = np.ravel(new_zor)\n",
        "new_saor = np.ravel(new_saor)\n",
        "\n",
        "print(\"Ind vs Zim : \",ks_2samp(new_india_overall, new_zim_overall))\n",
        "print(\"Ind vs SA : \",ks_2samp(new_india_overall, new_sa_overall))\n",
        "print(\"Ind vs Zim : \",ks_2samp(new_ior, new_zor))\n",
        "print(\"Ind vs SA : \",ks_2samp(new_ior, new_saor))"
      ],
      "metadata": {
        "colab": {
          "base_uri": "https://localhost:8080/"
        },
        "id": "9GoWj2MkQRqD",
        "outputId": "c48b4e8c-e9ec-42f2-d7f7-a5f88619536e"
      },
      "execution_count": null,
      "outputs": [
        {
          "output_type": "stream",
          "name": "stdout",
          "text": [
            "Ind vs Zim :  Ks_2sampResult(statistic=0.595, pvalue=3.2449472294453786e-33)\n",
            "Ind vs SA :  Ks_2sampResult(statistic=0.46, pvalue=1.8323127534838935e-19)\n",
            "Ind vs Zim :  Ks_2sampResult(statistic=0.235, pvalue=2.9607827368482373e-05)\n",
            "Ind vs SA :  Ks_2sampResult(statistic=0.26, pvalue=2.3797467071606504e-06)\n"
          ]
        }
      ]
    },
    {
      "cell_type": "code",
      "source": [
        "new_india_overall = np.ravel(new_india_overall)\n",
        "new_zim_overall = np.ravel(new_zim_overall)\n",
        "new_sa_overall = np.ravel(new_sa_overall)\n",
        "new_ior = np.ravel(new_ior)\n",
        "new_zor = np.ravel(new_zor)\n",
        "new_saor = np.ravel(new_saor)\n",
        "\n",
        "print(\"Ind vs Zim : \",ks_2samp(new_india_overall, new_zim_overall))\n",
        "print(\"Ind vs SA : \",ks_2samp(new_india_overall, new_sa_overall))\n",
        "print(\"Ind vs Zim : \",ks_2samp(new_ior, new_zor))\n",
        "print(\"Ind vs SA : \",ks_2samp(new_ior, new_saor))"
      ],
      "metadata": {
        "colab": {
          "base_uri": "https://localhost:8080/"
        },
        "id": "kfN1prtCV3uc",
        "outputId": "64ac765a-1e7a-4653-8340-b73a369def98"
      },
      "execution_count": null,
      "outputs": [
        {
          "output_type": "stream",
          "name": "stdout",
          "text": [
            "Ind vs Zim :  Ks_2sampResult(statistic=0.235, pvalue=2.9607827368482373e-05)\n",
            "Ind vs SA :  Ks_2sampResult(statistic=0.17, pvalue=0.006094418258803505)\n",
            "Ind vs Zim :  Ks_2sampResult(statistic=0.235, pvalue=2.9607827368482373e-05)\n",
            "Ind vs SA :  Ks_2sampResult(statistic=0.26, pvalue=2.3797467071606504e-06)\n"
          ]
        }
      ]
    },
    {
      "cell_type": "code",
      "source": [
        "print(\"Ind vs Zim : \",epps(new_india_overall, new_zim_overall))\n",
        "print(\"Ind vs SA : \",epps(new_india_overall, new_sa_overall))\n",
        "print(\"Ind vs Zim : \",epps(new_ior, new_zor))\n",
        "print(\"Ind vs SA : \",epps(new_ior, new_saor))"
      ],
      "metadata": {
        "colab": {
          "base_uri": "https://localhost:8080/"
        },
        "id": "buS8ua1jRrFS",
        "outputId": "761fbb54-7ecf-4a80-a114-e3490f9c17e7"
      },
      "execution_count": null,
      "outputs": [
        {
          "output_type": "stream",
          "name": "stdout",
          "text": [
            "Ind vs Zim :  Epps_Singleton_2sampResult(statistic=9.001717846640668, pvalue=0.0610565573069297)\n",
            "Ind vs SA :  Epps_Singleton_2sampResult(statistic=44.3190707909314, pvalue=5.507644483695521e-09)\n",
            "Ind vs Zim :  Epps_Singleton_2sampResult(statistic=8.120249491364978, pvalue=0.08727130106723684)\n",
            "Ind vs SA :  Epps_Singleton_2sampResult(statistic=25.026538606420583, pvalue=4.969544946280723e-05)\n"
          ]
        }
      ]
    },
    {
      "cell_type": "code",
      "source": [
        "print(\"Ind vs Zim : \",bmz(new_india_overall, new_zim_overall))\n",
        "print(\"Ind vs SA : \",bmz(new_india_overall, new_sa_overall))\n",
        "print(\"Ind vs Zim : \",bmz(new_ior, new_zor))\n",
        "print(\"Ind vs SA : \",bmz(new_ior, new_saor))"
      ],
      "metadata": {
        "colab": {
          "base_uri": "https://localhost:8080/"
        },
        "id": "tbi9eWJFR3ge",
        "outputId": "795e6b30-8ded-4314-b243-9a44932b4a92"
      },
      "execution_count": null,
      "outputs": [
        {
          "output_type": "stream",
          "name": "stdout",
          "text": [
            "Ind vs Zim :  BrunnerMunzelResult(statistic=2.27778227801853, pvalue=0.023376561058046086)\n",
            "Ind vs SA :  BrunnerMunzelResult(statistic=2.1525488920196225, pvalue=0.03196913190699524)\n",
            "Ind vs Zim :  BrunnerMunzelResult(statistic=2.6997367647085233, pvalue=0.007291924803837668)\n",
            "Ind vs SA :  BrunnerMunzelResult(statistic=4.331545640103271, pvalue=1.9246514937121262e-05)\n"
          ]
        }
      ]
    },
    {
      "cell_type": "code",
      "source": [
        "from scipy.stats import kruskal\n",
        "print(\"Ind vs Zim : \",kruskal(new_india_overall, new_zim_overall))\n",
        "print(\"Ind vs SA : \",kruskal(new_india_overall, new_sa_overall))\n",
        "print(\"Ind vs Zim : \",kruskal(new_ior, new_zor))\n",
        "print(\"Ind vs SA : \",kruskal(new_ior, new_saor))"
      ],
      "metadata": {
        "colab": {
          "base_uri": "https://localhost:8080/"
        },
        "id": "0KyD02lpXMkR",
        "outputId": "b202c6fa-1a25-4c35-cb82-304c474ef862"
      },
      "execution_count": null,
      "outputs": [
        {
          "output_type": "stream",
          "name": "stdout",
          "text": [
            "Ind vs Zim :  KruskalResult(statistic=5.349333665835502, pvalue=0.02073019158550973)\n",
            "Ind vs SA :  KruskalResult(statistic=4.634753865336734, pvalue=0.03133063814196755)\n",
            "Ind vs Zim :  KruskalResult(statistic=7.310630423940211, pvalue=0.006854787445402486)\n",
            "Ind vs SA :  KruskalResult(statistic=17.96992593516211, pvalue=2.244227357760131e-05)\n"
          ]
        }
      ]
    }
  ]
}