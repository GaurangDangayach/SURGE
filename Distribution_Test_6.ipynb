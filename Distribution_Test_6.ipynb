{
  "cells": [
    {
      "cell_type": "code",
      "execution_count": null,
      "metadata": {
        "id": "kZFRAW7zic_t",
        "colab": {
          "base_uri": "https://localhost:8080/"
        },
        "outputId": "20588e85-7d5c-434f-cfb8-f7f4d455c962"
      },
      "outputs": [
        {
          "output_type": "stream",
          "name": "stderr",
          "text": [
            "/usr/local/lib/python3.7/dist-packages/statsmodels/tools/_testing.py:19: FutureWarning: pandas.util.testing is deprecated. Use the functions in the public API at pandas.testing instead.\n",
            "  import pandas.util.testing as tm\n"
          ]
        }
      ],
      "source": [
        "from google.colab import files\n",
        "import io\n",
        "import math\n",
        "import pandas as pd\n",
        "import numpy as np\n",
        "import matplotlib.pyplot as plt\n",
        "import statsmodels.api as sm\n",
        "import statsmodels.formula.api as smf\n",
        "import scipy.stats as stats\n",
        "from sklearn.mixture import GaussianMixture\n",
        "from pylab import concatenate, normal\n",
        "from scipy.stats import ks_2samp\n",
        "from datetime import date"
      ]
    },
    {
      "cell_type": "code",
      "execution_count": null,
      "metadata": {
        "colab": {
          "base_uri": "https://localhost:8080/",
          "height": 74,
          "resources": {
            "http://localhost:8080/nbextensions/google.colab/files.js": {
              "data": "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",
              "ok": true,
              "headers": [
                [
                  "content-type",
                  "application/javascript"
                ]
              ],
              "status": 200,
              "status_text": ""
            }
          }
        },
        "id": "HLeKMPafn7bn",
        "outputId": "14523f92-07f2-49ae-e377-a7097c7069fc"
      },
      "outputs": [
        {
          "output_type": "display_data",
          "data": {
            "text/plain": [
              "<IPython.core.display.HTML object>"
            ],
            "text/html": [
              "\n",
              "     <input type=\"file\" id=\"files-6bb46f3f-6f50-4d7e-ba49-0b861f20e5e3\" name=\"files[]\" multiple disabled\n",
              "        style=\"border:none\" />\n",
              "     <output id=\"result-6bb46f3f-6f50-4d7e-ba49-0b861f20e5e3\">\n",
              "      Upload widget is only available when the cell has been executed in the\n",
              "      current browser session. Please rerun this cell to enable.\n",
              "      </output>\n",
              "      <script src=\"/nbextensions/google.colab/files.js\"></script> "
            ]
          },
          "metadata": {}
        },
        {
          "output_type": "stream",
          "name": "stdout",
          "text": [
            "Saving owid-covid-data.csv to owid-covid-data.csv\n"
          ]
        }
      ],
      "source": [
        "uploaded = files.upload()\n",
        "df = pd.read_csv(io.BytesIO(uploaded['owid-covid-data.csv']))"
      ]
    },
    {
      "cell_type": "code",
      "execution_count": null,
      "metadata": {
        "id": "97-33Odbi4fM"
      },
      "outputs": [],
      "source": [
        "df=df.fillna(0)\n",
        "df_ind = df.loc[df[\"location\"] == \"India\"]\n",
        "df_sa = df.loc[df[\"location\"] == \"South Africa\"]\n",
        "df_zim = df.loc[df[\"location\"] == \"Zimbabwe\"]\n",
        "df_afg = df.loc[df[\"location\"] == \"Afghanistan\"]\n",
        "df_us = df.loc[df[\"location\"] == \"United States\"]\n",
        "df_uk = df.loc[df[\"location\"] == \"United Kingdom\"]\n",
        "df_ger = df.loc[df[\"location\"] == \"Germany\"]\n",
        "df_ind=df_ind.iloc[:,[3,11]]\n",
        "df_sa=df_sa.iloc[:,[3,11]]\n",
        "df_zim=df_zim.iloc[:,[3,11]]\n",
        "df_afg=df_afg.iloc[:,[3,11]]\n",
        "df_us=df_us.iloc[:,[3,11]]\n",
        "df_uk=df_uk.iloc[:,[3,11]]\n",
        "df_ger=df_ger.iloc[:,[3,11]]"
      ]
    },
    {
      "cell_type": "code",
      "execution_count": null,
      "metadata": {
        "id": "8inDqHhzOVpd"
      },
      "outputs": [],
      "source": [
        "df_zim=df_zim.iloc[:600,:]\n",
        "df_sa=df_sa.iloc[:650,:]\n",
        "df_afg=df_afg.iloc[:600,:]\n",
        "df_us=df_us.iloc[:680,:]\n",
        "df_uk=df_uk.iloc[:580,:]\n",
        "df_ger=df_ger.iloc[:550,:]"
      ]
    },
    {
      "cell_type": "code",
      "execution_count": null,
      "metadata": {
        "id": "qe3G94cnOX_l"
      },
      "outputs": [],
      "source": [
        "df_ind.reset_index(inplace=True,drop=True)\n",
        "df_zim.reset_index(inplace=True,drop=True)\n",
        "df_sa.reset_index(inplace=True,drop=True)\n",
        "df_afg.reset_index(inplace=True,drop=True)\n",
        "df_us.reset_index(inplace=True,drop=True)\n",
        "df_uk.reset_index(inplace=True,drop=True)\n",
        "df_ger.reset_index(inplace=True,drop=True)"
      ]
    },
    {
      "cell_type": "code",
      "execution_count": null,
      "metadata": {
        "id": "CTYJZg8gpebg"
      },
      "outputs": [],
      "source": [
        "m,d,y=df_ind.iloc[0,0].split(\"/\")\n",
        "date0=date(int(y),int(m),int(d))\n",
        "for i in range(df_ind.index.max()+1):\n",
        "  m1,d1,y1=df_ind.iloc[i,0].split(\"/\")\n",
        "  date1=date(int(y1),int(m1),int(d1))\n",
        "  df_ind.iloc[i,0]=(date1-date0).days\n",
        "  if df_ind.iloc[i,1]==0:\n",
        "    df_ind.iloc[i,1]=(df_ind.iloc[i-1,1]+df_ind.iloc[i+1,1])/2\n",
        "df_ind['new_cases_per_million']=df_ind['new_cases_per_million'].astype(int)\n",
        "\n",
        "m,d,y=df_sa.iloc[0,0].split(\"/\")\n",
        "date0=date(int(y),int(m),int(d))\n",
        "for i in range(df_sa.index.max()+1):\n",
        "  m1,d1,y1=df_sa.iloc[i,0].split(\"/\")\n",
        "  date1=date(int(y1),int(m1),int(d1))\n",
        "  df_sa.iloc[i,0]=(date1-date0).days\n",
        "  if df_sa.iloc[i,1]==0:\n",
        "    df_sa.iloc[i,1]=(df_sa.iloc[i-1,1]+df_sa.iloc[i+1,1])/2\n",
        "df_sa['new_cases_per_million']=df_sa['new_cases_per_million'].astype(int)\n",
        "\n",
        "m,d,y=df_zim.iloc[0,0].split(\"/\")\n",
        "date0=date(int(y),int(m),int(d))\n",
        "for i in range(df_zim.index.max()+1):\n",
        "  m1,d1,y1=df_zim.iloc[i,0].split(\"/\")\n",
        "  date1=date(int(y1),int(m1),int(d1))\n",
        "  df_zim.iloc[i,0]=(date1-date0).days\n",
        "  if df_zim.iloc[i,1]==0:\n",
        "    df_zim.iloc[i,1]=df_zim.iloc[i+1,1]/2\n",
        "    df_zim.iloc[i+1,1]=df_zim.iloc[i+1,1]-df_zim.iloc[i,1]\n",
        "df_zim['new_cases_per_million']=df_zim['new_cases_per_million'].astype(int)\n",
        "\n",
        "m,d,y=df_afg.iloc[0,0].split(\"/\")\n",
        "date0=date(int(y),int(m),int(d))\n",
        "for i in range(df_afg.index.max()+1):\n",
        "  m1,d1,y1=df_afg.iloc[i,0].split(\"/\")\n",
        "  date1=date(int(y1),int(m1),int(d1))\n",
        "  df_afg.iloc[i,0]=(date1-date0).days\n",
        "  if df_afg.iloc[i,1]==0:\n",
        "    df_afg.iloc[i,1]=(df_afg.iloc[i-1,1]+df_afg.iloc[i+1,1])/2\n",
        "df_afg['new_cases_per_million']=df_afg['new_cases_per_million'].astype(int)\n",
        "\n",
        "m,d,y=df_us.iloc[0,0].split(\"/\")\n",
        "date0=date(int(y),int(m),int(d))\n",
        "for i in range(df_us.index.max()+1):\n",
        "  m1,d1,y1=df_us.iloc[i,0].split(\"/\")\n",
        "  date1=date(int(y1),int(m1),int(d1))\n",
        "  df_us.iloc[i,0]=(date1-date0).days\n",
        "  if df_us.iloc[i,1]==0:\n",
        "    df_us.iloc[i,1]=(df_us.iloc[i-1,1]+df_us.iloc[i+1,1])/2\n",
        "df_us['new_cases_per_million']=df_us['new_cases_per_million'].astype(int)\n",
        "\n",
        "m,d,y=df_uk.iloc[0,0].split(\"/\")\n",
        "date0=date(int(y),int(m),int(d))\n",
        "for i in range(df_uk.index.max()+1):\n",
        "  m1,d1,y1=df_uk.iloc[i,0].split(\"/\")\n",
        "  date1=date(int(y1),int(m1),int(d1))\n",
        "  df_uk.iloc[i,0]=(date1-date0).days\n",
        "  if df_uk.iloc[i,1]==0:\n",
        "    df_uk.iloc[i,1]=(df_uk.iloc[i-1,1]+df_uk.iloc[i+1,1])/2\n",
        "df_uk['new_cases_per_million']=df_uk['new_cases_per_million'].astype(int)\n",
        "\n",
        "m,d,y=df_ger.iloc[0,0].split(\"/\")\n",
        "date0=date(int(y),int(m),int(d))\n",
        "for i in range(df_ger.index.max()+1):\n",
        "  m1,d1,y1=df_ger.iloc[i,0].split(\"/\")\n",
        "  date1=date(int(y1),int(m1),int(d1))\n",
        "  df_ger.iloc[i,0]=(date1-date0).days\n",
        "  if df_ger.iloc[i,1]==0:\n",
        "    df_ger.iloc[i,1]=(df_ger.iloc[i-1,1]+df_ger.iloc[i+1,1])/2\n",
        "df_ger['new_cases_per_million']=df_ger['new_cases_per_million'].astype(int)"
      ]
    },
    {
      "cell_type": "code",
      "source": [
        "df_ind=df_ind.iloc[72:754,:]\n",
        "df_zim=df_zim.iloc[59:596,:]\n",
        "df_sa=df_sa.iloc[22:643,:]\n",
        "df_afg=df_afg.iloc[23:575,:]\n",
        "\n",
        "df_ind.reset_index(inplace=True,drop=True)\n",
        "df_zim.reset_index(inplace=True,drop=True)\n",
        "df_sa.reset_index(inplace=True,drop=True)\n",
        "df_afg.reset_index(inplace=True,drop=True)\n",
        "df_us.reset_index(inplace=True,drop=True)\n",
        "df_uk.reset_index(inplace=True,drop=True)\n",
        "df_ger.reset_index(inplace=True,drop=True)\n",
        "\n",
        "for i in range(df_ind.index.max()+1):\n",
        "  df_ind.iloc[i,0]=df_ind.iloc[i,0]-df_ind.iloc[0,0]\n",
        "for i in range(df_zim.index.max()+1):\n",
        "  df_zim.iloc[i,0]=df_zim.iloc[i,0]-df_zim.iloc[0,0]\n",
        "for i in range(df_sa.index.max()+1):\n",
        "  df_sa.iloc[i,0]=df_sa.iloc[i,0]-df_sa.iloc[0,0]\n",
        "for i in range(df_afg.index.max()+1):\n",
        "  df_afg.iloc[i,0]=df_afg.iloc[i,0]-df_afg.iloc[0,0]\n",
        "for i in range(df_us.index.max()+1):\n",
        "  df_us.iloc[i,0]=df_us.iloc[i,0]-df_us.iloc[0,0]\n",
        "for i in range(df_uk.index.max()+1):\n",
        "  df_uk.iloc[i,0]=df_uk.iloc[i,0]-df_uk.iloc[0,0]\n",
        "for i in range(df_ger.index.max()+1):\n",
        "  df_ger.iloc[i,0]=df_ger.iloc[i,0]-df_ger.iloc[0,0]"
      ],
      "metadata": {
        "colab": {
          "base_uri": "https://localhost:8080/"
        },
        "id": "hkvBfOxJTq8y",
        "outputId": "ae7f4822-5c2f-41af-96f9-941108090035"
      },
      "execution_count": null,
      "outputs": [
        {
          "output_type": "stream",
          "name": "stderr",
          "text": [
            "/usr/local/lib/python3.7/dist-packages/pandas/core/indexing.py:1817: SettingWithCopyWarning: \n",
            "A value is trying to be set on a copy of a slice from a DataFrame.\n",
            "Try using .loc[row_indexer,col_indexer] = value instead\n",
            "\n",
            "See the caveats in the documentation: https://pandas.pydata.org/pandas-docs/stable/user_guide/indexing.html#returning-a-view-versus-a-copy\n",
            "  self._setitem_single_column(loc, value, pi)\n"
          ]
        }
      ]
    },
    {
      "cell_type": "code",
      "source": [
        "ior=df_ind.iloc[:,1]\n",
        "zor=df_zim.iloc[:,1]\n",
        "saor=df_sa.iloc[:,1]\n",
        "afgor=df_afg.iloc[:,1]\n",
        "usor=df_us.iloc[:,1]\n",
        "ukor=df_uk.iloc[:,1]\n",
        "gor=df_ger.iloc[:,1]"
      ],
      "metadata": {
        "id": "153-WbqpTrWQ"
      },
      "execution_count": null,
      "outputs": []
    },
    {
      "cell_type": "code",
      "execution_count": null,
      "metadata": {
        "id": "H__cLuCOQIAS",
        "colab": {
          "base_uri": "https://localhost:8080/"
        },
        "outputId": "75cd2ee8-242a-4df5-dcfc-3f168d42fcb3"
      },
      "outputs": [
        {
          "output_type": "stream",
          "name": "stdout",
          "text": [
            "Ind vs Zim :  Ks_2sampResult(statistic=0.4917839414145055, pvalue=1.5422589661749226e-63)\n",
            "Ind vs SA :  Ks_2sampResult(statistic=0.21511515340407347, pvalue=1.1302070390684094e-13)\n",
            "Ind vs Afg :  Ks_2sampResult(statistic=0.5994836159632794, pvalue=1.1756366227255798e-95)\n",
            "Ind vs USA :  Ks_2sampResult(statistic=0.6518759703294807, pvalue=1.1102230246251565e-15)\n",
            "Ind vs UK :  Ks_2sampResult(statistic=0.3654413995348367, pvalue=8.765837585260372e-37)\n",
            "Ind vs Ger :  Ks_2sampResult(statistic=0.24580645161290324, pvalue=1.1102230246251565e-16)\n"
          ]
        }
      ],
      "source": [
        "print(\"Ind vs Zim : \",ks_2samp(ior, zor))\n",
        "print(\"Ind vs SA : \",ks_2samp(ior, saor))\n",
        "print(\"Ind vs Afg : \",ks_2samp(ior, afgor))\n",
        "print(\"Ind vs USA : \",ks_2samp(ior, usor))\n",
        "print(\"Ind vs UK : \",ks_2samp(ior, ukor))\n",
        "print(\"Ind vs Ger : \",ks_2samp(ior, gor))"
      ]
    },
    {
      "cell_type": "code",
      "execution_count": null,
      "metadata": {
        "id": "69sHyc0WMKbA",
        "colab": {
          "base_uri": "https://localhost:8080/"
        },
        "outputId": "6342c699-4624-463f-c006-c448baeafced"
      },
      "outputs": [
        {
          "output_type": "stream",
          "name": "stdout",
          "text": [
            "Ind vs Zim :  Epps_Singleton_2sampResult(statistic=321.2060559597268, pvalue=2.880319504745488e-68)\n",
            "Ind vs SA :  Epps_Singleton_2sampResult(statistic=80.3526917161715, pvalue=1.4665014404049837e-16)\n",
            "Ind vs Afg :  Epps_Singleton_2sampResult(statistic=527.1339240487978, pvalue=9.054373202033149e-113)\n",
            "Ind vs USA :  Epps_Singleton_2sampResult(statistic=811.3268217409196, pvalue=2.7030510498285885e-174)\n",
            "Ind vs UK :  Epps_Singleton_2sampResult(statistic=199.60825382378798, pvalue=4.561384930488744e-42)\n",
            "Ind vs Ger :  Epps_Singleton_2sampResult(statistic=130.86642902410333, pvalue=2.5415652941404608e-27)\n"
          ]
        }
      ],
      "source": [
        "from scipy.stats import epps_singleton_2samp as epps\n",
        "print(\"Ind vs Zim : \",epps(ior, zor))\n",
        "print(\"Ind vs SA : \",epps(ior, saor))\n",
        "print(\"Ind vs Afg : \",epps(ior, afgor))\n",
        "print(\"Ind vs USA : \",epps(ior, usor))\n",
        "print(\"Ind vs UK : \",epps(ior, ukor))\n",
        "print(\"Ind vs Ger : \",epps(ior, gor))"
      ]
    },
    {
      "cell_type": "code",
      "execution_count": null,
      "metadata": {
        "id": "9yT8KqavMt0Z",
        "colab": {
          "base_uri": "https://localhost:8080/"
        },
        "outputId": "8d02786a-64a1-4de9-a974-795e909f85cd"
      },
      "outputs": [
        {
          "output_type": "stream",
          "name": "stdout",
          "text": [
            "Ind vs Zim :  BrunnerMunzelResult(statistic=-21.129041449387497, pvalue=4.3074593926969305e-80)\n",
            "Ind vs SA :  BrunnerMunzelResult(statistic=6.887537863848542, pvalue=9.315437310419838e-12)\n",
            "Ind vs Afg :  BrunnerMunzelResult(statistic=-34.77393031112259, pvalue=2.3189351641475156e-178)\n",
            "Ind vs USA :  BrunnerMunzelResult(statistic=28.016469717730935, pvalue=0.0)\n",
            "Ind vs UK :  BrunnerMunzelResult(statistic=13.630113994706633, pvalue=0.0)\n",
            "Ind vs Ger :  BrunnerMunzelResult(statistic=2.91337085919573, pvalue=0.003672341350113406)\n"
          ]
        }
      ],
      "source": [
        "from scipy.stats import brunnermunzel as bmz\n",
        "print(\"Ind vs Zim : \",bmz(ior, zor))\n",
        "print(\"Ind vs SA : \",bmz(ior, saor))\n",
        "print(\"Ind vs Afg : \",bmz(ior, afgor))\n",
        "print(\"Ind vs USA : \",bmz(ior, usor))\n",
        "print(\"Ind vs UK : \",bmz(ior, ukor))\n",
        "print(\"Ind vs Ger : \",bmz(ior, gor))"
      ]
    },
    {
      "cell_type": "code",
      "execution_count": null,
      "metadata": {
        "id": "0ZT1Xrtr_MPX",
        "colab": {
          "base_uri": "https://localhost:8080/"
        },
        "outputId": "b7194093-e883-48f6-ae9d-242391f92046"
      },
      "outputs": [
        {
          "output_type": "stream",
          "name": "stdout",
          "text": [
            "Looking in indexes: https://pypi.org/simple, https://us-python.pkg.dev/colab-wheels/public/simple/\n",
            "Collecting similaritymeasures\n",
            "  Downloading similaritymeasures-0.4.4.tar.gz (395 kB)\n",
            "\u001b[K     |████████████████████████████████| 395 kB 23.3 MB/s \n",
            "\u001b[?25hRequirement already satisfied: numpy>=1.14.0 in /usr/local/lib/python3.7/dist-packages (from similaritymeasures) (1.21.6)\n",
            "Requirement already satisfied: scipy>=0.19.0 in /usr/local/lib/python3.7/dist-packages (from similaritymeasures) (1.4.1)\n",
            "Building wheels for collected packages: similaritymeasures\n",
            "  Building wheel for similaritymeasures (setup.py) ... \u001b[?25l\u001b[?25hdone\n",
            "  Created wheel for similaritymeasures: filename=similaritymeasures-0.4.4-py3-none-any.whl size=14557 sha256=2afbf566e6052844e131f2294b8f58123fcbf951d84055d89085629847f45511\n",
            "  Stored in directory: /root/.cache/pip/wheels/a9/3a/35/009cc44db92a3500424a89baac7e77c219a44209c67f867a1e\n",
            "Successfully built similaritymeasures\n",
            "Installing collected packages: similaritymeasures\n",
            "Successfully installed similaritymeasures-0.4.4\n"
          ]
        }
      ],
      "source": [
        "! pip install similaritymeasures\n",
        "import similaritymeasures"
      ]
    },
    {
      "cell_type": "code",
      "source": [
        "print(\"Ind vs Zim : \",similaritymeasures.frechet_dist(ior, zor))\n",
        "print(\"Ind vs SA : \",similaritymeasures.frechet_dist(ior, saor))\n",
        "print(\"Ind vs Afg : \",similaritymeasures.frechet_dist(ior, afgor))\n",
        "print(\"Ind vs USA : \",similaritymeasures.frechet_dist(ior, usor))\n",
        "print(\"Ind vs UK : \",similaritymeasures.frechet_dist(ior, ukor))\n",
        "print(\"Ind vs Ger : \",similaritymeasures.frechet_dist(ior, gor))"
      ],
      "metadata": {
        "id": "gmA9jhDoh_xW",
        "colab": {
          "base_uri": "https://localhost:8080/"
        },
        "outputId": "fef0dc95-e61c-4f25-c88e-f4670f334d7b"
      },
      "execution_count": null,
      "outputs": [
        {
          "output_type": "stream",
          "name": "stdout",
          "text": [
            "Ind vs Zim :  91.0\n",
            "Ind vs SA :  178.0\n",
            "Ind vs Afg :  216.0\n",
            "Ind vs USA :  649.0\n",
            "Ind vs UK :  700.0\n",
            "Ind vs Ger :  126.0\n"
          ]
        }
      ]
    },
    {
      "cell_type": "code",
      "source": [
        "a=np.array(df_ind,dtype='float')\n",
        "b=np.array(df_zim,dtype='float')\n",
        "c=np.array(df_sa,dtype='float')\n",
        "d=np.array(df_afg,dtype='float')\n",
        "e=np.array(df_us,dtype='float')\n",
        "f=np.array(df_uk,dtype='float')\n",
        "g=np.array(df_ger,dtype='float')"
      ],
      "metadata": {
        "id": "qQOk2UUgUwOq"
      },
      "execution_count": null,
      "outputs": []
    },
    {
      "cell_type": "code",
      "source": [
        "print(\"Ind vs Zim : \",similaritymeasures.curve_length_measure(a,b))\n",
        "print(\"Ind vs SA : \",similaritymeasures.curve_length_measure(a,c))\n",
        "print(\"Ind vs Afg : \",similaritymeasures.curve_length_measure(a,d))\n",
        "print(\"Ind vs USA : \",similaritymeasures.curve_length_measure(a,e))\n",
        "print(\"Ind vs UK : \",similaritymeasures.curve_length_measure(a,f))\n",
        "print(\"Ind vs Ger : \",similaritymeasures.curve_length_measure(a,g))"
      ],
      "metadata": {
        "id": "Zx6Aq57JLiPQ",
        "outputId": "51be0c63-8cdb-4cb3-f179-2d51fee7eb55",
        "colab": {
          "base_uri": "https://localhost:8080/"
        }
      },
      "execution_count": null,
      "outputs": [
        {
          "output_type": "stream",
          "name": "stdout",
          "text": [
            "Ind vs Zim :  23.423620060131952\n",
            "Ind vs SA :  33.94465381780811\n",
            "Ind vs Afg :  20.122722803870232\n",
            "Ind vs USA :  54.932786473116145\n",
            "Ind vs UK :  44.40496547287163\n",
            "Ind vs Ger :  34.77852061752734\n"
          ]
        }
      ]
    },
    {
      "cell_type": "code",
      "source": [
        "print(\"Ind vs Zim : \",similaritymeasures.pcm(a,b))\n",
        "print(\"Ind vs SA : \",similaritymeasures.pcm(a,c))\n",
        "print(\"Ind vs Afg : \",similaritymeasures.pcm(a,d))\n",
        "print(\"Ind vs USA : \",similaritymeasures.pcm(a,e))\n",
        "print(\"Ind vs UK : \",similaritymeasures.pcm(a,f))\n",
        "print(\"Ind vs Ger : \",similaritymeasures.pcm(a,g))"
      ],
      "metadata": {
        "id": "uaqOONNsHtmr",
        "colab": {
          "base_uri": "https://localhost:8080/"
        },
        "outputId": "5cd60f4d-872a-4051-9813-a6f4d0fc4300"
      },
      "execution_count": null,
      "outputs": [
        {
          "output_type": "stream",
          "name": "stdout",
          "text": [
            "Ind vs Zim :  66.55424839499061\n",
            "Ind vs SA :  80.77363756779376\n",
            "Ind vs Afg :  91.00664075038819\n",
            "Ind vs USA :  134.01755049624742\n",
            "Ind vs UK :  147.4408162767735\n",
            "Ind vs Ger :  70.24342706496962\n"
          ]
        }
      ]
    },
    {
      "cell_type": "code",
      "source": [
        "print(\"Ind vs Zim : \",similaritymeasures.dtw(a,b)[0])\n",
        "print(\"Ind vs SA : \",similaritymeasures.dtw(a,c)[0])\n",
        "print(\"Ind vs Afg : \",similaritymeasures.dtw(a,d)[0])\n",
        "print(\"Ind vs USA : \",similaritymeasures.dtw(a,e)[0])\n",
        "print(\"Ind vs UK : \",similaritymeasures.dtw(a,f)[0])\n",
        "print(\"Ind vs Ger : \",similaritymeasures.dtw(a,g)[0])"
      ],
      "metadata": {
        "id": "ibpjMdD0S1rq",
        "colab": {
          "base_uri": "https://localhost:8080/"
        },
        "outputId": "e688617d-3a57-4f6f-cdc4-42380fbbddc3"
      },
      "execution_count": null,
      "outputs": [
        {
          "output_type": "stream",
          "name": "stdout",
          "text": [
            "Ind vs Zim :  28295.55531585147\n",
            "Ind vs SA :  45196.761444422424\n",
            "Ind vs Afg :  38796.79113910178\n",
            "Ind vs USA :  117514.68990969757\n",
            "Ind vs UK :  108848.44149120555\n",
            "Ind vs Ger :  57478.9718794882\n"
          ]
        }
      ]
    },
    {
      "cell_type": "code",
      "source": [
        "print(\"Ind vs Zim : \",similaritymeasures.area_between_two_curves(a,b))\n",
        "print(\"Ind vs SA : \",similaritymeasures.area_between_two_curves(a,c))\n",
        "print(\"Ind vs Afg : \",similaritymeasures.area_between_two_curves(a,d))\n",
        "print(\"Ind vs USA : \",similaritymeasures.area_between_two_curves(a,e))\n",
        "print(\"Ind vs UK : \",similaritymeasures.area_between_two_curves(a,f))\n",
        "print(\"Ind vs Ger : \",similaritymeasures.area_between_two_curves(a,g))"
      ],
      "metadata": {
        "id": "IjSuXrkeVMhO",
        "colab": {
          "base_uri": "https://localhost:8080/"
        },
        "outputId": "1316d5a7-5091-48d0-ba60-5a97e8590c5d"
      },
      "execution_count": null,
      "outputs": [
        {
          "output_type": "stream",
          "name": "stdout",
          "text": [
            "Ind vs Zim :  218731.53125\n",
            "Ind vs SA :  468024.125\n",
            "Ind vs Afg :  235872.5\n",
            "Ind vs USA :  1435255.25\n",
            "Ind vs UK :  887281.6875\n",
            "Ind vs Ger :  904083.75\n"
          ]
        }
      ]
    },
    {
      "cell_type": "code",
      "source": [
        "plt.plot(df_ind['date'], df_ind['new_cases_per_million'])"
      ],
      "metadata": {
        "colab": {
          "base_uri": "https://localhost:8080/",
          "height": 282
        },
        "id": "gwV37tDhfcgB",
        "outputId": "e18ee54b-ec20-4d44-8321-1ef3da2cd6ce"
      },
      "execution_count": null,
      "outputs": [
        {
          "output_type": "execute_result",
          "data": {
            "text/plain": [
              "[<matplotlib.lines.Line2D at 0x7f35896ac050>]"
            ]
          },
          "metadata": {},
          "execution_count": 25
        },
        {
          "output_type": "display_data",
          "data": {
            "text/plain": [
              "<Figure size 432x288 with 1 Axes>"
            ],
            "image/png": "[encoded data removed]"
          },
          "metadata": {
            "needs_background": "light"
          }
        }
      ]
    },
    {
      "cell_type": "code",
      "source": [
        "plt.rcParams['figure.figsize'] = [12, 12]\n",
        "\n",
        "plt.subplot(2, 3, 1)\n",
        "plt.plot(df_zim['date'], df_zim['new_cases_per_million'])\n",
        "\n",
        "plt.subplot(2, 3, 2)\n",
        "plt.plot(df_sa['date'], df_sa['new_cases_per_million'])\n",
        "\n",
        "plt.subplot(2, 3, 3)\n",
        "plt.plot(df_afg['date'], df_afg['new_cases_per_million'])\n",
        "\n",
        "plt.subplot(2, 3, 4)\n",
        "plt.plot(df_us['date'], df_us['new_cases_per_million'])\n",
        "\n",
        "plt.subplot(2, 3, 5)\n",
        "plt.plot(df_uk['date'], df_uk['new_cases_per_million'])\n",
        "\n",
        "plt.subplot(2, 3, 6)\n",
        "plt.plot(df_ger['date'], df_ger['new_cases_per_million'])\n",
        "\n",
        "plt.show()"
      ],
      "metadata": {
        "id": "gKwaofgx6MCp",
        "colab": {
          "base_uri": "https://localhost:8080/",
          "height": 700
        },
        "outputId": "3e85953f-1d68-42f6-c9aa-53ed04bd44d7"
      },
      "execution_count": null,
      "outputs": [
        {
          "output_type": "display_data",
          "data": {
            "text/plain": [
              "<Figure size 864x864 with 6 Axes>"
            ],
            "image/png": "[encoded data removed]"
          },
          "metadata": {
            "needs_background": "light"
          }
        }
      ]
    }
  ],
  "metadata": {
    "colab": {
      "provenance": []
    },
    "kernelspec": {
      "display_name": "Python 3",
      "name": "python3"
    },
    "language_info": {
      "name": "python"
    }
  },
  "nbformat": 4,
  "nbformat_minor": 0
}